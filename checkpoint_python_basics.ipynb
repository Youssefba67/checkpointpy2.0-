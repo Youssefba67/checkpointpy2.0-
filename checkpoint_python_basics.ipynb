{
 "cells": [
  {
   "cell_type": "code",
   "execution_count": null,
   "id": "4c645f4b",
   "metadata": {
    "scrolled": true
   },
   "outputs": [],
   "source": [
    "print(\"please enter your name: \")\n",
    "name = input()\n",
    "print(\"enter your last name: \")\n",
    "last_name = input()\n",
    "print (last_name,\"\",name)"
   ]
  },
  {
   "cell_type": "code",
   "execution_count": null,
   "id": "8a79c7a7",
   "metadata": {},
   "outputs": [],
   "source": [
    "print(\"please enter a number: \")\n",
    "n = int(input())\n",
    "str1 = str(n)\n",
    "str2 = str1 + str1 \n",
    "str3 = str2 + str1 \n",
    "nn = int(str2)\n",
    "nnn = int(str3)\n",
    "print(n+nn+nnn)"
   ]
  },
  {
   "cell_type": "code",
   "execution_count": null,
   "id": "6d6f8f8a",
   "metadata": {},
   "outputs": [],
   "source": [
    "print(\"enter a number: \")\n",
    "n = int(input())\n",
    "if n%2 == 0 :\n",
    "    print(\"even number\")\n",
    "else:\n",
    "    print(\"odd number\")"
   ]
  },
  {
   "cell_type": "code",
   "execution_count": null,
   "id": "d49b47c5",
   "metadata": {},
   "outputs": [],
   "source": [
    " for i in range (2000,3201):\n",
    "    if i%7 == 0 and i%5 != 0:\n",
    "        print(i) "
   ]
  },
  {
   "cell_type": "code",
   "execution_count": null,
   "id": "6da11042",
   "metadata": {},
   "outputs": [],
   "source": [
    "n = int(input())\n",
    "sum = 1\n",
    "for i in range(1,n+1):\n",
    "    sum = sum * i\n",
    "    \n",
    "    \n",
    "print (n,\"!= \",sum )"
   ]
  },
  {
   "cell_type": "code",
   "execution_count": null,
   "id": "e5fe83b1",
   "metadata": {},
   "outputs": [],
   "source": [
    "print(\"enter something:\")\n",
    "string = input()\n",
    "sum = \"\"\n",
    "i = 0\n",
    "while i<= len(string):\n",
    "    sum = sum + string[i]\n",
    "    i = i + 2\n",
    "    \n",
    "        \n",
    "print(sum)  "
   ]
  },
  {
   "cell_type": "code",
   "execution_count": 50,
   "id": "46285c77",
   "metadata": {},
   "outputs": [
    {
     "name": "stdout",
     "output_type": "stream",
     "text": [
      "know your new price!\n",
      "1\n",
      "discount price is: 0.1 DT\n",
      "your new price is : 0.9 DT\n"
     ]
    }
   ],
   "source": [
    "print(\"know your new price!\")\n",
    "P = int(input())\n",
    "DP=0\n",
    "if  P >= 500:\n",
    "    DP = P * 0.5\n",
    "elif P>=200 and P<500:\n",
    "        DP = P * 0.3\n",
    "else : \n",
    "        DP = P * 0.1\n",
    "        \n",
    "print(\"discount price is:\", DP,\"DT\")              \n",
    "print(\"your new price is :\",P-DP,\"DT\")        "
   ]
  }
 ],
 "metadata": {
  "kernelspec": {
   "display_name": "Python 3 (ipykernel)",
   "language": "python",
   "name": "python3"
  },
  "language_info": {
   "codemirror_mode": {
    "name": "ipython",
    "version": 3
   },
   "file_extension": ".py",
   "mimetype": "text/x-python",
   "name": "python",
   "nbconvert_exporter": "python",
   "pygments_lexer": "ipython3",
   "version": "3.9.7"
  }
 },
 "nbformat": 4,
 "nbformat_minor": 5
}
